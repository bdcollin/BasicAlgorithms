{
  "nbformat": 4,
  "nbformat_minor": 0,
  "metadata": {
    "colab": {
      "name": "drg_codes.ipynb",
      "version": "0.3.2",
      "provenance": [],
      "include_colab_link": true
    },
    "kernelspec": {
      "name": "python2",
      "display_name": "Python 2"
    }
  },
  "cells": [
    {
      "cell_type": "markdown",
      "metadata": {
        "id": "view-in-github",
        "colab_type": "text"
      },
      "source": [
        "<a href=\"https://colab.research.google.com/github/bdcollin/BasicAlgorithms/blob/master/drg_codes.ipynb\" target=\"_parent\"><img src=\"https://colab.research.google.com/assets/colab-badge.svg\" alt=\"Open In Colab\"/></a>"
      ]
    },
    {
      "metadata": {
        "id": "OOkyz-oHR4nZ",
        "colab_type": "code",
        "outputId": "de60e313-64a7-4f51-aa47-aa08594ed03a",
        "colab": {
          "base_uri": "https://localhost:8080/",
          "height": 35
        }
      },
      "cell_type": "code",
      "source": [
        "from google.colab import drive\n",
        "from oauth2client.client import GoogleCredentials\n",
        "\n",
        "drive.mount(\"/content/gdrive\")"
      ],
      "execution_count": 0,
      "outputs": [
        {
          "output_type": "stream",
          "text": [
            "Drive already mounted at /content/gdrive; to attempt to forcibly remount, call drive.mount(\"/content/gdrive\", force_remount=True).\n"
          ],
          "name": "stdout"
        }
      ]
    },
    {
      "metadata": {
        "id": "N1eKgTYKSRoa",
        "colab_type": "code",
        "colab": {}
      },
      "cell_type": "code",
      "source": [
        "import pandas as pd\n",
        "import numpy as np\n",
        "import re\n",
        "import warnings as warnings"
      ],
      "execution_count": 0,
      "outputs": []
    },
    {
      "metadata": {
        "id": "-3CZsZubSaYj",
        "colab_type": "code",
        "colab": {}
      },
      "cell_type": "code",
      "source": [
        "drug_codes = pd.read_csv(\"/content/gdrive/Team Drives/CSC 505 Project 5/data/DRGCODES.csv\")"
      ],
      "execution_count": 0,
      "outputs": []
    },
    {
      "metadata": {
        "id": "itgioETjSoIm",
        "colab_type": "code",
        "outputId": "d267df12-4b65-406c-859b-d0ae89305f2d",
        "colab": {
          "base_uri": "https://localhost:8080/",
          "height": 204
        }
      },
      "cell_type": "code",
      "source": [
        "drug_codes.head()"
      ],
      "execution_count": 0,
      "outputs": [
        {
          "output_type": "execute_result",
          "data": {
            "text/html": [
              "<div>\n",
              "<style scoped>\n",
              "    .dataframe tbody tr th:only-of-type {\n",
              "        vertical-align: middle;\n",
              "    }\n",
              "\n",
              "    .dataframe tbody tr th {\n",
              "        vertical-align: top;\n",
              "    }\n",
              "\n",
              "    .dataframe thead th {\n",
              "        text-align: right;\n",
              "    }\n",
              "</style>\n",
              "<table border=\"1\" class=\"dataframe\">\n",
              "  <thead>\n",
              "    <tr style=\"text-align: right;\">\n",
              "      <th></th>\n",
              "      <th>ROW_ID</th>\n",
              "      <th>SUBJECT_ID</th>\n",
              "      <th>HADM_ID</th>\n",
              "      <th>DRG_TYPE</th>\n",
              "      <th>DRG_CODE</th>\n",
              "      <th>DESCRIPTION</th>\n",
              "      <th>DRG_SEVERITY</th>\n",
              "      <th>DRG_MORTALITY</th>\n",
              "    </tr>\n",
              "  </thead>\n",
              "  <tbody>\n",
              "    <tr>\n",
              "      <th>0</th>\n",
              "      <td>342</td>\n",
              "      <td>2491</td>\n",
              "      <td>144486</td>\n",
              "      <td>HCFA</td>\n",
              "      <td>28</td>\n",
              "      <td>TRAUMATIC STUPOR &amp; COMA, COMA &lt;1 HR AGE &gt;17 WI...</td>\n",
              "      <td>NaN</td>\n",
              "      <td>NaN</td>\n",
              "    </tr>\n",
              "    <tr>\n",
              "      <th>1</th>\n",
              "      <td>343</td>\n",
              "      <td>24958</td>\n",
              "      <td>162910</td>\n",
              "      <td>HCFA</td>\n",
              "      <td>110</td>\n",
              "      <td>MAJOR CARDIOVASCULAR PROCEDURES WITH COMPLICAT...</td>\n",
              "      <td>NaN</td>\n",
              "      <td>NaN</td>\n",
              "    </tr>\n",
              "    <tr>\n",
              "      <th>2</th>\n",
              "      <td>344</td>\n",
              "      <td>18325</td>\n",
              "      <td>153751</td>\n",
              "      <td>HCFA</td>\n",
              "      <td>390</td>\n",
              "      <td>NEONATE WITH OTHER SIGNIFICANT PROBLEMS</td>\n",
              "      <td>NaN</td>\n",
              "      <td>NaN</td>\n",
              "    </tr>\n",
              "    <tr>\n",
              "      <th>3</th>\n",
              "      <td>345</td>\n",
              "      <td>17887</td>\n",
              "      <td>182692</td>\n",
              "      <td>HCFA</td>\n",
              "      <td>14</td>\n",
              "      <td>SPECIFIC CEREBROVASCULAR DISORDERS EXCEPT TRAN...</td>\n",
              "      <td>NaN</td>\n",
              "      <td>NaN</td>\n",
              "    </tr>\n",
              "    <tr>\n",
              "      <th>4</th>\n",
              "      <td>346</td>\n",
              "      <td>11113</td>\n",
              "      <td>157980</td>\n",
              "      <td>HCFA</td>\n",
              "      <td>390</td>\n",
              "      <td>NEONATE WITH OTHER SIGNIFICANT PROBLEMS</td>\n",
              "      <td>NaN</td>\n",
              "      <td>NaN</td>\n",
              "    </tr>\n",
              "  </tbody>\n",
              "</table>\n",
              "</div>"
            ],
            "text/plain": [
              "   ROW_ID  SUBJECT_ID  HADM_ID DRG_TYPE  DRG_CODE  \\\n",
              "0     342        2491   144486     HCFA        28   \n",
              "1     343       24958   162910     HCFA       110   \n",
              "2     344       18325   153751     HCFA       390   \n",
              "3     345       17887   182692     HCFA        14   \n",
              "4     346       11113   157980     HCFA       390   \n",
              "\n",
              "                                         DESCRIPTION  DRG_SEVERITY  \\\n",
              "0  TRAUMATIC STUPOR & COMA, COMA <1 HR AGE >17 WI...           NaN   \n",
              "1  MAJOR CARDIOVASCULAR PROCEDURES WITH COMPLICAT...           NaN   \n",
              "2            NEONATE WITH OTHER SIGNIFICANT PROBLEMS           NaN   \n",
              "3  SPECIFIC CEREBROVASCULAR DISORDERS EXCEPT TRAN...           NaN   \n",
              "4            NEONATE WITH OTHER SIGNIFICANT PROBLEMS           NaN   \n",
              "\n",
              "   DRG_MORTALITY  \n",
              "0            NaN  \n",
              "1            NaN  \n",
              "2            NaN  \n",
              "3            NaN  \n",
              "4            NaN  "
            ]
          },
          "metadata": {
            "tags": []
          },
          "execution_count": 109
        }
      ]
    },
    {
      "metadata": {
        "id": "OeRhPpwjSyJ4",
        "colab_type": "code",
        "outputId": "cdf231b8-7c95-40dd-b609-eae1592da0b2",
        "colab": {
          "base_uri": "https://localhost:8080/",
          "height": 35
        }
      },
      "cell_type": "code",
      "source": [
        "drug_codes['DRG_TYPE'].unique()"
      ],
      "execution_count": 0,
      "outputs": [
        {
          "output_type": "execute_result",
          "data": {
            "text/plain": [
              "array(['HCFA', 'APR ', 'MS'], dtype=object)"
            ]
          },
          "metadata": {
            "tags": []
          },
          "execution_count": 110
        }
      ]
    },
    {
      "metadata": {
        "id": "XNMZj8kRS-e9",
        "colab_type": "text"
      },
      "cell_type": "markdown",
      "source": [
        "HCFA, APR"
      ]
    },
    {
      "metadata": {
        "id": "P7hcxm5HTBbH",
        "colab_type": "code",
        "outputId": "1effc1ca-9382-41fd-b3e6-e536e5b632fe",
        "colab": {
          "base_uri": "https://localhost:8080/",
          "height": 35
        }
      },
      "cell_type": "code",
      "source": [
        "drug_codes['DRG_CODE'].nunique()"
      ],
      "execution_count": 0,
      "outputs": [
        {
          "output_type": "execute_result",
          "data": {
            "text/plain": [
              "1667"
            ]
          },
          "metadata": {
            "tags": []
          },
          "execution_count": 111
        }
      ]
    },
    {
      "metadata": {
        "id": "OUG8otZXTGbd",
        "colab_type": "code",
        "outputId": "06b0ae79-7ce2-4b05-8d2e-ea8fdcf67fbd",
        "colab": {
          "base_uri": "https://localhost:8080/",
          "height": 35
        }
      },
      "cell_type": "code",
      "source": [
        "drug_codes['SUBJECT_ID'].nunique()"
      ],
      "execution_count": 0,
      "outputs": [
        {
          "output_type": "execute_result",
          "data": {
            "text/plain": [
              "46511"
            ]
          },
          "metadata": {
            "tags": []
          },
          "execution_count": 112
        }
      ]
    },
    {
      "metadata": {
        "id": "F4PQPOJdTWMn",
        "colab_type": "code",
        "outputId": "843ead4e-acc8-4906-ab4c-f3057e6bd805",
        "colab": {
          "base_uri": "https://localhost:8080/",
          "height": 35
        }
      },
      "cell_type": "code",
      "source": [
        "drug_codes['DRG_CODE'].isnull().values.any()"
      ],
      "execution_count": 0,
      "outputs": [
        {
          "output_type": "execute_result",
          "data": {
            "text/plain": [
              "False"
            ]
          },
          "metadata": {
            "tags": []
          },
          "execution_count": 113
        }
      ]
    },
    {
      "metadata": {
        "id": "DBBBjCNmUj1H",
        "colab_type": "code",
        "outputId": "8dda5463-97b0-4107-f55d-0991216faa01",
        "colab": {
          "base_uri": "https://localhost:8080/",
          "height": 35
        }
      },
      "cell_type": "code",
      "source": [
        "drug_codes['DRG_MORTALITY'].unique()"
      ],
      "execution_count": 0,
      "outputs": [
        {
          "output_type": "execute_result",
          "data": {
            "text/plain": [
              "array([nan,  3.,  4.,  1.,  2.,  0.])"
            ]
          },
          "metadata": {
            "tags": []
          },
          "execution_count": 114
        }
      ]
    },
    {
      "metadata": {
        "id": "xgYk9Jf5U1wG",
        "colab_type": "code",
        "outputId": "f052275e-fe7d-4a7e-ebc7-f5f607f7b434",
        "colab": {
          "base_uri": "https://localhost:8080/",
          "height": 35
        }
      },
      "cell_type": "code",
      "source": [
        "drug_codes['DRG_SEVERITY'].unique()"
      ],
      "execution_count": 0,
      "outputs": [
        {
          "output_type": "execute_result",
          "data": {
            "text/plain": [
              "array([nan,  4.,  3.,  1.,  2.,  0.])"
            ]
          },
          "metadata": {
            "tags": []
          },
          "execution_count": 115
        }
      ]
    },
    {
      "metadata": {
        "id": "u_v2P9SAVCZl",
        "colab_type": "code",
        "colab": {}
      },
      "cell_type": "code",
      "source": [
        "fixed_all = pd.read_csv(\"/content/gdrive/Team Drives/CSC 505 Project 5/data/FIXED_ALL_PATIENTS.txt\")"
      ],
      "execution_count": 0,
      "outputs": []
    },
    {
      "metadata": {
        "id": "NVFaK2ORVvSy",
        "colab_type": "code",
        "outputId": "3832c50d-d289-41fd-9dd9-9a7f486623ae",
        "colab": {
          "base_uri": "https://localhost:8080/",
          "height": 440
        }
      },
      "cell_type": "code",
      "source": [
        "fixed_all.head()"
      ],
      "execution_count": 0,
      "outputs": [
        {
          "output_type": "execute_result",
          "data": {
            "text/html": [
              "<div>\n",
              "<style scoped>\n",
              "    .dataframe tbody tr th:only-of-type {\n",
              "        vertical-align: middle;\n",
              "    }\n",
              "\n",
              "    .dataframe tbody tr th {\n",
              "        vertical-align: top;\n",
              "    }\n",
              "\n",
              "    .dataframe thead th {\n",
              "        text-align: right;\n",
              "    }\n",
              "</style>\n",
              "<table border=\"1\" class=\"dataframe\">\n",
              "  <thead>\n",
              "    <tr style=\"text-align: right;\">\n",
              "      <th></th>\n",
              "      <th>Unnamed: 0</th>\n",
              "      <th>SUBJECT_ID</th>\n",
              "      <th>HADM_ID</th>\n",
              "      <th>ADMITTIME</th>\n",
              "      <th>DISCHTIME</th>\n",
              "      <th>DEATHTIME</th>\n",
              "      <th>ADMISSION_TYPE</th>\n",
              "      <th>ADMISSION_LOCATION</th>\n",
              "      <th>DISCHARGE_LOCATION</th>\n",
              "      <th>INSURANCE</th>\n",
              "      <th>...</th>\n",
              "      <th>RELIGION</th>\n",
              "      <th>MARITAL_STATUS</th>\n",
              "      <th>ETHNICITY</th>\n",
              "      <th>EDREGTIME</th>\n",
              "      <th>EDOUTTIME</th>\n",
              "      <th>DIAGNOSIS</th>\n",
              "      <th>GENDER</th>\n",
              "      <th>DOB</th>\n",
              "      <th>AGE</th>\n",
              "      <th>PriorToRead</th>\n",
              "    </tr>\n",
              "  </thead>\n",
              "  <tbody>\n",
              "    <tr>\n",
              "      <th>0</th>\n",
              "      <td>0</td>\n",
              "      <td>23.0</td>\n",
              "      <td>152223.0</td>\n",
              "      <td>2153-09-03 07:15:00</td>\n",
              "      <td>2153-09-08 19:10:00</td>\n",
              "      <td>NaN</td>\n",
              "      <td>ELECTIVE</td>\n",
              "      <td>PHYS REFERRAL/NORMAL DELI</td>\n",
              "      <td>HOME HEALTH CARE</td>\n",
              "      <td>Medicare</td>\n",
              "      <td>...</td>\n",
              "      <td>CATHOLIC</td>\n",
              "      <td>MARRIED</td>\n",
              "      <td>WHITE</td>\n",
              "      <td>NaN</td>\n",
              "      <td>NaN</td>\n",
              "      <td>CORONARY ARTERY DISEASE\\CORONARY ARTERY BYPASS...</td>\n",
              "      <td>M</td>\n",
              "      <td>2082-07-17 00:00:00</td>\n",
              "      <td>71.178082</td>\n",
              "      <td>0</td>\n",
              "    </tr>\n",
              "    <tr>\n",
              "      <th>1</th>\n",
              "      <td>1</td>\n",
              "      <td>23.0</td>\n",
              "      <td>124321.0</td>\n",
              "      <td>2157-10-18 19:34:00</td>\n",
              "      <td>2157-10-25 14:00:00</td>\n",
              "      <td>NaN</td>\n",
              "      <td>EMERGENCY</td>\n",
              "      <td>TRANSFER FROM HOSP/EXTRAM</td>\n",
              "      <td>HOME HEALTH CARE</td>\n",
              "      <td>Medicare</td>\n",
              "      <td>...</td>\n",
              "      <td>CATHOLIC</td>\n",
              "      <td>MARRIED</td>\n",
              "      <td>WHITE</td>\n",
              "      <td>NaN</td>\n",
              "      <td>NaN</td>\n",
              "      <td>BRAIN MASS</td>\n",
              "      <td>M</td>\n",
              "      <td>2082-07-17 00:00:00</td>\n",
              "      <td>75.304110</td>\n",
              "      <td>0</td>\n",
              "    </tr>\n",
              "    <tr>\n",
              "      <th>2</th>\n",
              "      <td>2</td>\n",
              "      <td>36.0</td>\n",
              "      <td>182104.0</td>\n",
              "      <td>2131-04-30 07:15:00</td>\n",
              "      <td>2131-05-08 14:00:00</td>\n",
              "      <td>NaN</td>\n",
              "      <td>EMERGENCY</td>\n",
              "      <td>CLINIC REFERRAL/PREMATURE</td>\n",
              "      <td>HOME HEALTH CARE</td>\n",
              "      <td>Medicare</td>\n",
              "      <td>...</td>\n",
              "      <td>NOT SPECIFIED</td>\n",
              "      <td>MARRIED</td>\n",
              "      <td>WHITE</td>\n",
              "      <td>NaN</td>\n",
              "      <td>NaN</td>\n",
              "      <td>CORONARY ARTERY DISEASE\\CORONARY ARTERY BYPASS...</td>\n",
              "      <td>M</td>\n",
              "      <td>2061-08-17 00:00:00</td>\n",
              "      <td>69.745205</td>\n",
              "      <td>1</td>\n",
              "    </tr>\n",
              "    <tr>\n",
              "      <th>3</th>\n",
              "      <td>3</td>\n",
              "      <td>36.0</td>\n",
              "      <td>122659.0</td>\n",
              "      <td>2131-05-12 19:49:00</td>\n",
              "      <td>2131-05-25 13:30:00</td>\n",
              "      <td>NaN</td>\n",
              "      <td>EMERGENCY</td>\n",
              "      <td>EMERGENCY ROOM ADMIT</td>\n",
              "      <td>REHAB/DISTINCT PART HOSP</td>\n",
              "      <td>Medicare</td>\n",
              "      <td>...</td>\n",
              "      <td>NOT SPECIFIED</td>\n",
              "      <td>MARRIED</td>\n",
              "      <td>WHITE</td>\n",
              "      <td>2131-05-12 17:26:00</td>\n",
              "      <td>2131-05-12 22:17:00</td>\n",
              "      <td>CHEST PAIN/SHORTNESS OF BREATH</td>\n",
              "      <td>M</td>\n",
              "      <td>2061-08-17 00:00:00</td>\n",
              "      <td>69.778082</td>\n",
              "      <td>0</td>\n",
              "    </tr>\n",
              "    <tr>\n",
              "      <th>4</th>\n",
              "      <td>4</td>\n",
              "      <td>36.0</td>\n",
              "      <td>165660.0</td>\n",
              "      <td>2134-05-10 11:30:00</td>\n",
              "      <td>2134-05-20 13:16:00</td>\n",
              "      <td>NaN</td>\n",
              "      <td>ELECTIVE</td>\n",
              "      <td>PHYS REFERRAL/NORMAL DELI</td>\n",
              "      <td>LONG TERM CARE HOSPITAL</td>\n",
              "      <td>Medicare</td>\n",
              "      <td>...</td>\n",
              "      <td>NOT SPECIFIED</td>\n",
              "      <td>MARRIED</td>\n",
              "      <td>WHITE</td>\n",
              "      <td>NaN</td>\n",
              "      <td>NaN</td>\n",
              "      <td>VENTRAL HERNIA/SDA</td>\n",
              "      <td>M</td>\n",
              "      <td>2061-08-17 00:00:00</td>\n",
              "      <td>72.775342</td>\n",
              "      <td>0</td>\n",
              "    </tr>\n",
              "  </tbody>\n",
              "</table>\n",
              "<p>5 rows × 21 columns</p>\n",
              "</div>"
            ],
            "text/plain": [
              "   Unnamed: 0  SUBJECT_ID   HADM_ID            ADMITTIME            DISCHTIME  \\\n",
              "0           0        23.0  152223.0  2153-09-03 07:15:00  2153-09-08 19:10:00   \n",
              "1           1        23.0  124321.0  2157-10-18 19:34:00  2157-10-25 14:00:00   \n",
              "2           2        36.0  182104.0  2131-04-30 07:15:00  2131-05-08 14:00:00   \n",
              "3           3        36.0  122659.0  2131-05-12 19:49:00  2131-05-25 13:30:00   \n",
              "4           4        36.0  165660.0  2134-05-10 11:30:00  2134-05-20 13:16:00   \n",
              "\n",
              "  DEATHTIME ADMISSION_TYPE         ADMISSION_LOCATION  \\\n",
              "0       NaN       ELECTIVE  PHYS REFERRAL/NORMAL DELI   \n",
              "1       NaN      EMERGENCY  TRANSFER FROM HOSP/EXTRAM   \n",
              "2       NaN      EMERGENCY  CLINIC REFERRAL/PREMATURE   \n",
              "3       NaN      EMERGENCY       EMERGENCY ROOM ADMIT   \n",
              "4       NaN       ELECTIVE  PHYS REFERRAL/NORMAL DELI   \n",
              "\n",
              "         DISCHARGE_LOCATION INSURANCE     ...            RELIGION  \\\n",
              "0          HOME HEALTH CARE  Medicare     ...            CATHOLIC   \n",
              "1          HOME HEALTH CARE  Medicare     ...            CATHOLIC   \n",
              "2          HOME HEALTH CARE  Medicare     ...       NOT SPECIFIED   \n",
              "3  REHAB/DISTINCT PART HOSP  Medicare     ...       NOT SPECIFIED   \n",
              "4   LONG TERM CARE HOSPITAL  Medicare     ...       NOT SPECIFIED   \n",
              "\n",
              "  MARITAL_STATUS ETHNICITY            EDREGTIME            EDOUTTIME  \\\n",
              "0        MARRIED     WHITE                  NaN                  NaN   \n",
              "1        MARRIED     WHITE                  NaN                  NaN   \n",
              "2        MARRIED     WHITE                  NaN                  NaN   \n",
              "3        MARRIED     WHITE  2131-05-12 17:26:00  2131-05-12 22:17:00   \n",
              "4        MARRIED     WHITE                  NaN                  NaN   \n",
              "\n",
              "                                           DIAGNOSIS GENDER  \\\n",
              "0  CORONARY ARTERY DISEASE\\CORONARY ARTERY BYPASS...      M   \n",
              "1                                         BRAIN MASS      M   \n",
              "2  CORONARY ARTERY DISEASE\\CORONARY ARTERY BYPASS...      M   \n",
              "3                     CHEST PAIN/SHORTNESS OF BREATH      M   \n",
              "4                                 VENTRAL HERNIA/SDA      M   \n",
              "\n",
              "                   DOB        AGE  PriorToRead  \n",
              "0  2082-07-17 00:00:00  71.178082            0  \n",
              "1  2082-07-17 00:00:00  75.304110            0  \n",
              "2  2061-08-17 00:00:00  69.745205            1  \n",
              "3  2061-08-17 00:00:00  69.778082            0  \n",
              "4  2061-08-17 00:00:00  72.775342            0  \n",
              "\n",
              "[5 rows x 21 columns]"
            ]
          },
          "metadata": {
            "tags": []
          },
          "execution_count": 117
        }
      ]
    },
    {
      "metadata": {
        "id": "qlf0oI62W75p",
        "colab_type": "code",
        "outputId": "9545f528-5eea-414a-f974-c27a635018c4",
        "colab": {
          "base_uri": "https://localhost:8080/",
          "height": 179
        }
      },
      "cell_type": "code",
      "source": [
        "drug_codes.dtypes"
      ],
      "execution_count": 0,
      "outputs": [
        {
          "output_type": "execute_result",
          "data": {
            "text/plain": [
              "ROW_ID             int64\n",
              "SUBJECT_ID         int64\n",
              "HADM_ID            int64\n",
              "DRG_TYPE          object\n",
              "DRG_CODE           int64\n",
              "DESCRIPTION       object\n",
              "DRG_SEVERITY     float64\n",
              "DRG_MORTALITY    float64\n",
              "dtype: object"
            ]
          },
          "metadata": {
            "tags": []
          },
          "execution_count": 118
        }
      ]
    },
    {
      "metadata": {
        "id": "WDPp2UUdXRxn",
        "colab_type": "code",
        "colab": {}
      },
      "cell_type": "code",
      "source": [
        "drug_codes['HADM_ID'] = drug_codes['HADM_ID'].astype(float)"
      ],
      "execution_count": 0,
      "outputs": []
    },
    {
      "metadata": {
        "id": "t9RSavpJXHLf",
        "colab_type": "code",
        "outputId": "51496f0f-bf54-4aad-d917-ea58774b615a",
        "colab": {
          "base_uri": "https://localhost:8080/",
          "height": 413
        }
      },
      "cell_type": "code",
      "source": [
        "fixed_all.dtypes"
      ],
      "execution_count": 0,
      "outputs": [
        {
          "output_type": "execute_result",
          "data": {
            "text/plain": [
              "Unnamed: 0              int64\n",
              "SUBJECT_ID            float64\n",
              "HADM_ID               float64\n",
              "ADMITTIME              object\n",
              "DISCHTIME              object\n",
              "DEATHTIME              object\n",
              "ADMISSION_TYPE         object\n",
              "ADMISSION_LOCATION     object\n",
              "DISCHARGE_LOCATION     object\n",
              "INSURANCE              object\n",
              "LANGUAGE               object\n",
              "RELIGION               object\n",
              "MARITAL_STATUS         object\n",
              "ETHNICITY              object\n",
              "EDREGTIME              object\n",
              "EDOUTTIME              object\n",
              "DIAGNOSIS              object\n",
              "GENDER                 object\n",
              "DOB                    object\n",
              "AGE                   float64\n",
              "PriorToRead             int64\n",
              "dtype: object"
            ]
          },
          "metadata": {
            "tags": []
          },
          "execution_count": 120
        }
      ]
    },
    {
      "metadata": {
        "id": "aehNyl90Xj2B",
        "colab_type": "code",
        "outputId": "5cd44b4f-617a-4869-f29d-d51e92d18e94",
        "colab": {
          "base_uri": "https://localhost:8080/",
          "height": 179
        }
      },
      "cell_type": "code",
      "source": [
        "drug_codes.dtypes"
      ],
      "execution_count": 0,
      "outputs": [
        {
          "output_type": "execute_result",
          "data": {
            "text/plain": [
              "ROW_ID             int64\n",
              "SUBJECT_ID         int64\n",
              "HADM_ID          float64\n",
              "DRG_TYPE          object\n",
              "DRG_CODE           int64\n",
              "DESCRIPTION       object\n",
              "DRG_SEVERITY     float64\n",
              "DRG_MORTALITY    float64\n",
              "dtype: object"
            ]
          },
          "metadata": {
            "tags": []
          },
          "execution_count": 121
        }
      ]
    },
    {
      "metadata": {
        "id": "TxW74V6vV-gf",
        "colab_type": "code",
        "outputId": "82e3c9fb-ecfc-4874-8c6a-d51fea415644",
        "colab": {
          "base_uri": "https://localhost:8080/",
          "height": 525
        }
      },
      "cell_type": "code",
      "source": [
        "drug_codes_merged = drug_codes.merge(fixed_all, how='left', on='HADM_ID')\n",
        "drug_codes_merged.head()"
      ],
      "execution_count": 0,
      "outputs": [
        {
          "output_type": "execute_result",
          "data": {
            "text/html": [
              "<div>\n",
              "<style scoped>\n",
              "    .dataframe tbody tr th:only-of-type {\n",
              "        vertical-align: middle;\n",
              "    }\n",
              "\n",
              "    .dataframe tbody tr th {\n",
              "        vertical-align: top;\n",
              "    }\n",
              "\n",
              "    .dataframe thead th {\n",
              "        text-align: right;\n",
              "    }\n",
              "</style>\n",
              "<table border=\"1\" class=\"dataframe\">\n",
              "  <thead>\n",
              "    <tr style=\"text-align: right;\">\n",
              "      <th></th>\n",
              "      <th>ROW_ID</th>\n",
              "      <th>SUBJECT_ID_x</th>\n",
              "      <th>HADM_ID</th>\n",
              "      <th>DRG_TYPE</th>\n",
              "      <th>DRG_CODE</th>\n",
              "      <th>DESCRIPTION</th>\n",
              "      <th>DRG_SEVERITY</th>\n",
              "      <th>DRG_MORTALITY</th>\n",
              "      <th>Unnamed: 0</th>\n",
              "      <th>SUBJECT_ID_y</th>\n",
              "      <th>...</th>\n",
              "      <th>RELIGION</th>\n",
              "      <th>MARITAL_STATUS</th>\n",
              "      <th>ETHNICITY</th>\n",
              "      <th>EDREGTIME</th>\n",
              "      <th>EDOUTTIME</th>\n",
              "      <th>DIAGNOSIS</th>\n",
              "      <th>GENDER</th>\n",
              "      <th>DOB</th>\n",
              "      <th>AGE</th>\n",
              "      <th>PriorToRead</th>\n",
              "    </tr>\n",
              "  </thead>\n",
              "  <tbody>\n",
              "    <tr>\n",
              "      <th>0</th>\n",
              "      <td>342</td>\n",
              "      <td>2491</td>\n",
              "      <td>144486.0</td>\n",
              "      <td>HCFA</td>\n",
              "      <td>28</td>\n",
              "      <td>TRAUMATIC STUPOR &amp; COMA, COMA &lt;1 HR AGE &gt;17 WI...</td>\n",
              "      <td>NaN</td>\n",
              "      <td>NaN</td>\n",
              "      <td>19808.0</td>\n",
              "      <td>2491.0</td>\n",
              "      <td>...</td>\n",
              "      <td>NaN</td>\n",
              "      <td>MARRIED</td>\n",
              "      <td>WHITE</td>\n",
              "      <td>2158-02-20 19:16:00</td>\n",
              "      <td>2158-02-20 23:40:00</td>\n",
              "      <td>S/P MVA</td>\n",
              "      <td>M</td>\n",
              "      <td>2082-07-02 00:00:00</td>\n",
              "      <td>75.687671</td>\n",
              "      <td>0.0</td>\n",
              "    </tr>\n",
              "    <tr>\n",
              "      <th>1</th>\n",
              "      <td>343</td>\n",
              "      <td>24958</td>\n",
              "      <td>162910.0</td>\n",
              "      <td>HCFA</td>\n",
              "      <td>110</td>\n",
              "      <td>MAJOR CARDIOVASCULAR PROCEDURES WITH COMPLICAT...</td>\n",
              "      <td>NaN</td>\n",
              "      <td>NaN</td>\n",
              "      <td>10232.0</td>\n",
              "      <td>24958.0</td>\n",
              "      <td>...</td>\n",
              "      <td>CATHOLIC</td>\n",
              "      <td>SINGLE</td>\n",
              "      <td>WHITE</td>\n",
              "      <td>2126-12-23 20:33:00</td>\n",
              "      <td>2126-12-24 02:36:00</td>\n",
              "      <td>CONGESTIVE HEART FAILURE;RULE-OUT MYOCARDIAL I...</td>\n",
              "      <td>F</td>\n",
              "      <td>2049-11-14 00:00:00</td>\n",
              "      <td>77.156164</td>\n",
              "      <td>0.0</td>\n",
              "    </tr>\n",
              "    <tr>\n",
              "      <th>2</th>\n",
              "      <td>344</td>\n",
              "      <td>18325</td>\n",
              "      <td>153751.0</td>\n",
              "      <td>HCFA</td>\n",
              "      <td>390</td>\n",
              "      <td>NEONATE WITH OTHER SIGNIFICANT PROBLEMS</td>\n",
              "      <td>NaN</td>\n",
              "      <td>NaN</td>\n",
              "      <td>NaN</td>\n",
              "      <td>NaN</td>\n",
              "      <td>...</td>\n",
              "      <td>NaN</td>\n",
              "      <td>NaN</td>\n",
              "      <td>NaN</td>\n",
              "      <td>NaN</td>\n",
              "      <td>NaN</td>\n",
              "      <td>NaN</td>\n",
              "      <td>NaN</td>\n",
              "      <td>NaN</td>\n",
              "      <td>NaN</td>\n",
              "      <td>NaN</td>\n",
              "    </tr>\n",
              "    <tr>\n",
              "      <th>3</th>\n",
              "      <td>345</td>\n",
              "      <td>17887</td>\n",
              "      <td>182692.0</td>\n",
              "      <td>HCFA</td>\n",
              "      <td>14</td>\n",
              "      <td>SPECIFIC CEREBROVASCULAR DISORDERS EXCEPT TRAN...</td>\n",
              "      <td>NaN</td>\n",
              "      <td>NaN</td>\n",
              "      <td>27585.0</td>\n",
              "      <td>17887.0</td>\n",
              "      <td>...</td>\n",
              "      <td>UNOBTAINABLE</td>\n",
              "      <td>WIDOWED</td>\n",
              "      <td>WHITE</td>\n",
              "      <td>2143-12-23 20:49:00</td>\n",
              "      <td>2143-12-24 03:00:00</td>\n",
              "      <td>INTER CRANIAL HEMORRHAGE</td>\n",
              "      <td>F</td>\n",
              "      <td>2062-08-22 00:00:00</td>\n",
              "      <td>81.391781</td>\n",
              "      <td>0.0</td>\n",
              "    </tr>\n",
              "    <tr>\n",
              "      <th>4</th>\n",
              "      <td>346</td>\n",
              "      <td>11113</td>\n",
              "      <td>157980.0</td>\n",
              "      <td>HCFA</td>\n",
              "      <td>390</td>\n",
              "      <td>NEONATE WITH OTHER SIGNIFICANT PROBLEMS</td>\n",
              "      <td>NaN</td>\n",
              "      <td>NaN</td>\n",
              "      <td>NaN</td>\n",
              "      <td>NaN</td>\n",
              "      <td>...</td>\n",
              "      <td>NaN</td>\n",
              "      <td>NaN</td>\n",
              "      <td>NaN</td>\n",
              "      <td>NaN</td>\n",
              "      <td>NaN</td>\n",
              "      <td>NaN</td>\n",
              "      <td>NaN</td>\n",
              "      <td>NaN</td>\n",
              "      <td>NaN</td>\n",
              "      <td>NaN</td>\n",
              "    </tr>\n",
              "  </tbody>\n",
              "</table>\n",
              "<p>5 rows × 28 columns</p>\n",
              "</div>"
            ],
            "text/plain": [
              "   ROW_ID  SUBJECT_ID_x   HADM_ID DRG_TYPE  DRG_CODE  \\\n",
              "0     342          2491  144486.0     HCFA        28   \n",
              "1     343         24958  162910.0     HCFA       110   \n",
              "2     344         18325  153751.0     HCFA       390   \n",
              "3     345         17887  182692.0     HCFA        14   \n",
              "4     346         11113  157980.0     HCFA       390   \n",
              "\n",
              "                                         DESCRIPTION  DRG_SEVERITY  \\\n",
              "0  TRAUMATIC STUPOR & COMA, COMA <1 HR AGE >17 WI...           NaN   \n",
              "1  MAJOR CARDIOVASCULAR PROCEDURES WITH COMPLICAT...           NaN   \n",
              "2            NEONATE WITH OTHER SIGNIFICANT PROBLEMS           NaN   \n",
              "3  SPECIFIC CEREBROVASCULAR DISORDERS EXCEPT TRAN...           NaN   \n",
              "4            NEONATE WITH OTHER SIGNIFICANT PROBLEMS           NaN   \n",
              "\n",
              "   DRG_MORTALITY  Unnamed: 0  SUBJECT_ID_y     ...          RELIGION  \\\n",
              "0            NaN     19808.0        2491.0     ...               NaN   \n",
              "1            NaN     10232.0       24958.0     ...          CATHOLIC   \n",
              "2            NaN         NaN           NaN     ...               NaN   \n",
              "3            NaN     27585.0       17887.0     ...      UNOBTAINABLE   \n",
              "4            NaN         NaN           NaN     ...               NaN   \n",
              "\n",
              "  MARITAL_STATUS ETHNICITY            EDREGTIME            EDOUTTIME  \\\n",
              "0        MARRIED     WHITE  2158-02-20 19:16:00  2158-02-20 23:40:00   \n",
              "1         SINGLE     WHITE  2126-12-23 20:33:00  2126-12-24 02:36:00   \n",
              "2            NaN       NaN                  NaN                  NaN   \n",
              "3        WIDOWED     WHITE  2143-12-23 20:49:00  2143-12-24 03:00:00   \n",
              "4            NaN       NaN                  NaN                  NaN   \n",
              "\n",
              "                                           DIAGNOSIS GENDER  \\\n",
              "0                                            S/P MVA      M   \n",
              "1  CONGESTIVE HEART FAILURE;RULE-OUT MYOCARDIAL I...      F   \n",
              "2                                                NaN    NaN   \n",
              "3                           INTER CRANIAL HEMORRHAGE      F   \n",
              "4                                                NaN    NaN   \n",
              "\n",
              "                   DOB        AGE PriorToRead  \n",
              "0  2082-07-02 00:00:00  75.687671         0.0  \n",
              "1  2049-11-14 00:00:00  77.156164         0.0  \n",
              "2                  NaN        NaN         NaN  \n",
              "3  2062-08-22 00:00:00  81.391781         0.0  \n",
              "4                  NaN        NaN         NaN  \n",
              "\n",
              "[5 rows x 28 columns]"
            ]
          },
          "metadata": {
            "tags": []
          },
          "execution_count": 122
        }
      ]
    },
    {
      "metadata": {
        "id": "EbbcuMnAX0Lh",
        "colab_type": "code",
        "outputId": "2f297b9a-f35e-45e2-9593-0ba08203a9b7",
        "colab": {
          "base_uri": "https://localhost:8080/",
          "height": 542
        }
      },
      "cell_type": "code",
      "source": [
        "drug_codes_prior_0 = drug_codes_merged[drug_codes_merged['PriorToRead']==0]\n",
        "drug_codes_prior_0.head()"
      ],
      "execution_count": 0,
      "outputs": [
        {
          "output_type": "execute_result",
          "data": {
            "text/html": [
              "<div>\n",
              "<style scoped>\n",
              "    .dataframe tbody tr th:only-of-type {\n",
              "        vertical-align: middle;\n",
              "    }\n",
              "\n",
              "    .dataframe tbody tr th {\n",
              "        vertical-align: top;\n",
              "    }\n",
              "\n",
              "    .dataframe thead th {\n",
              "        text-align: right;\n",
              "    }\n",
              "</style>\n",
              "<table border=\"1\" class=\"dataframe\">\n",
              "  <thead>\n",
              "    <tr style=\"text-align: right;\">\n",
              "      <th></th>\n",
              "      <th>ROW_ID</th>\n",
              "      <th>SUBJECT_ID_x</th>\n",
              "      <th>HADM_ID</th>\n",
              "      <th>DRG_TYPE</th>\n",
              "      <th>DRG_CODE</th>\n",
              "      <th>DESCRIPTION</th>\n",
              "      <th>DRG_SEVERITY</th>\n",
              "      <th>DRG_MORTALITY</th>\n",
              "      <th>Unnamed: 0</th>\n",
              "      <th>SUBJECT_ID_y</th>\n",
              "      <th>...</th>\n",
              "      <th>RELIGION</th>\n",
              "      <th>MARITAL_STATUS</th>\n",
              "      <th>ETHNICITY</th>\n",
              "      <th>EDREGTIME</th>\n",
              "      <th>EDOUTTIME</th>\n",
              "      <th>DIAGNOSIS</th>\n",
              "      <th>GENDER</th>\n",
              "      <th>DOB</th>\n",
              "      <th>AGE</th>\n",
              "      <th>PriorToRead</th>\n",
              "    </tr>\n",
              "  </thead>\n",
              "  <tbody>\n",
              "    <tr>\n",
              "      <th>0</th>\n",
              "      <td>342</td>\n",
              "      <td>2491</td>\n",
              "      <td>144486.0</td>\n",
              "      <td>HCFA</td>\n",
              "      <td>28</td>\n",
              "      <td>TRAUMATIC STUPOR &amp; COMA, COMA &lt;1 HR AGE &gt;17 WI...</td>\n",
              "      <td>NaN</td>\n",
              "      <td>NaN</td>\n",
              "      <td>19808.0</td>\n",
              "      <td>2491.0</td>\n",
              "      <td>...</td>\n",
              "      <td>NaN</td>\n",
              "      <td>MARRIED</td>\n",
              "      <td>WHITE</td>\n",
              "      <td>2158-02-20 19:16:00</td>\n",
              "      <td>2158-02-20 23:40:00</td>\n",
              "      <td>S/P MVA</td>\n",
              "      <td>M</td>\n",
              "      <td>2082-07-02 00:00:00</td>\n",
              "      <td>75.687671</td>\n",
              "      <td>0.0</td>\n",
              "    </tr>\n",
              "    <tr>\n",
              "      <th>1</th>\n",
              "      <td>343</td>\n",
              "      <td>24958</td>\n",
              "      <td>162910.0</td>\n",
              "      <td>HCFA</td>\n",
              "      <td>110</td>\n",
              "      <td>MAJOR CARDIOVASCULAR PROCEDURES WITH COMPLICAT...</td>\n",
              "      <td>NaN</td>\n",
              "      <td>NaN</td>\n",
              "      <td>10232.0</td>\n",
              "      <td>24958.0</td>\n",
              "      <td>...</td>\n",
              "      <td>CATHOLIC</td>\n",
              "      <td>SINGLE</td>\n",
              "      <td>WHITE</td>\n",
              "      <td>2126-12-23 20:33:00</td>\n",
              "      <td>2126-12-24 02:36:00</td>\n",
              "      <td>CONGESTIVE HEART FAILURE;RULE-OUT MYOCARDIAL I...</td>\n",
              "      <td>F</td>\n",
              "      <td>2049-11-14 00:00:00</td>\n",
              "      <td>77.156164</td>\n",
              "      <td>0.0</td>\n",
              "    </tr>\n",
              "    <tr>\n",
              "      <th>3</th>\n",
              "      <td>345</td>\n",
              "      <td>17887</td>\n",
              "      <td>182692.0</td>\n",
              "      <td>HCFA</td>\n",
              "      <td>14</td>\n",
              "      <td>SPECIFIC CEREBROVASCULAR DISORDERS EXCEPT TRAN...</td>\n",
              "      <td>NaN</td>\n",
              "      <td>NaN</td>\n",
              "      <td>27585.0</td>\n",
              "      <td>17887.0</td>\n",
              "      <td>...</td>\n",
              "      <td>UNOBTAINABLE</td>\n",
              "      <td>WIDOWED</td>\n",
              "      <td>WHITE</td>\n",
              "      <td>2143-12-23 20:49:00</td>\n",
              "      <td>2143-12-24 03:00:00</td>\n",
              "      <td>INTER CRANIAL HEMORRHAGE</td>\n",
              "      <td>F</td>\n",
              "      <td>2062-08-22 00:00:00</td>\n",
              "      <td>81.391781</td>\n",
              "      <td>0.0</td>\n",
              "    </tr>\n",
              "    <tr>\n",
              "      <th>6</th>\n",
              "      <td>348</td>\n",
              "      <td>15787</td>\n",
              "      <td>122380.0</td>\n",
              "      <td>HCFA</td>\n",
              "      <td>105</td>\n",
              "      <td>CARDIAC VALVE &amp; OTHER MAJOR CARDIOTHORACIC PRO...</td>\n",
              "      <td>NaN</td>\n",
              "      <td>NaN</td>\n",
              "      <td>26951.0</td>\n",
              "      <td>15787.0</td>\n",
              "      <td>...</td>\n",
              "      <td>JEWISH</td>\n",
              "      <td>MARRIED</td>\n",
              "      <td>WHITE</td>\n",
              "      <td>NaN</td>\n",
              "      <td>NaN</td>\n",
              "      <td>MITRA\\MITRAL VALVE REPLACEMENT/SDA</td>\n",
              "      <td>F</td>\n",
              "      <td>2045-05-19 00:00:00</td>\n",
              "      <td>61.589041</td>\n",
              "      <td>0.0</td>\n",
              "    </tr>\n",
              "    <tr>\n",
              "      <th>7</th>\n",
              "      <td>349</td>\n",
              "      <td>13933</td>\n",
              "      <td>194891.0</td>\n",
              "      <td>HCFA</td>\n",
              "      <td>101</td>\n",
              "      <td>OTHER RESPIRATORY SYSTEM DIAGNOSES WITH COMPLI...</td>\n",
              "      <td>NaN</td>\n",
              "      <td>NaN</td>\n",
              "      <td>26379.0</td>\n",
              "      <td>13933.0</td>\n",
              "      <td>...</td>\n",
              "      <td>NOT SPECIFIED</td>\n",
              "      <td>SINGLE</td>\n",
              "      <td>WHITE</td>\n",
              "      <td>2107-12-08 22:55:00</td>\n",
              "      <td>2107-12-09 09:15:00</td>\n",
              "      <td>PNEUMONIA-FEVER-POST-OP</td>\n",
              "      <td>F</td>\n",
              "      <td>2079-04-10 00:00:00</td>\n",
              "      <td>28.682192</td>\n",
              "      <td>0.0</td>\n",
              "    </tr>\n",
              "  </tbody>\n",
              "</table>\n",
              "<p>5 rows × 28 columns</p>\n",
              "</div>"
            ],
            "text/plain": [
              "   ROW_ID  SUBJECT_ID_x   HADM_ID DRG_TYPE  DRG_CODE  \\\n",
              "0     342          2491  144486.0     HCFA        28   \n",
              "1     343         24958  162910.0     HCFA       110   \n",
              "3     345         17887  182692.0     HCFA        14   \n",
              "6     348         15787  122380.0     HCFA       105   \n",
              "7     349         13933  194891.0     HCFA       101   \n",
              "\n",
              "                                         DESCRIPTION  DRG_SEVERITY  \\\n",
              "0  TRAUMATIC STUPOR & COMA, COMA <1 HR AGE >17 WI...           NaN   \n",
              "1  MAJOR CARDIOVASCULAR PROCEDURES WITH COMPLICAT...           NaN   \n",
              "3  SPECIFIC CEREBROVASCULAR DISORDERS EXCEPT TRAN...           NaN   \n",
              "6  CARDIAC VALVE & OTHER MAJOR CARDIOTHORACIC PRO...           NaN   \n",
              "7  OTHER RESPIRATORY SYSTEM DIAGNOSES WITH COMPLI...           NaN   \n",
              "\n",
              "   DRG_MORTALITY  Unnamed: 0  SUBJECT_ID_y     ...           RELIGION  \\\n",
              "0            NaN     19808.0        2491.0     ...                NaN   \n",
              "1            NaN     10232.0       24958.0     ...           CATHOLIC   \n",
              "3            NaN     27585.0       17887.0     ...       UNOBTAINABLE   \n",
              "6            NaN     26951.0       15787.0     ...             JEWISH   \n",
              "7            NaN     26379.0       13933.0     ...      NOT SPECIFIED   \n",
              "\n",
              "  MARITAL_STATUS ETHNICITY            EDREGTIME            EDOUTTIME  \\\n",
              "0        MARRIED     WHITE  2158-02-20 19:16:00  2158-02-20 23:40:00   \n",
              "1         SINGLE     WHITE  2126-12-23 20:33:00  2126-12-24 02:36:00   \n",
              "3        WIDOWED     WHITE  2143-12-23 20:49:00  2143-12-24 03:00:00   \n",
              "6        MARRIED     WHITE                  NaN                  NaN   \n",
              "7         SINGLE     WHITE  2107-12-08 22:55:00  2107-12-09 09:15:00   \n",
              "\n",
              "                                           DIAGNOSIS GENDER  \\\n",
              "0                                            S/P MVA      M   \n",
              "1  CONGESTIVE HEART FAILURE;RULE-OUT MYOCARDIAL I...      F   \n",
              "3                           INTER CRANIAL HEMORRHAGE      F   \n",
              "6                 MITRA\\MITRAL VALVE REPLACEMENT/SDA      F   \n",
              "7                            PNEUMONIA-FEVER-POST-OP      F   \n",
              "\n",
              "                   DOB        AGE PriorToRead  \n",
              "0  2082-07-02 00:00:00  75.687671         0.0  \n",
              "1  2049-11-14 00:00:00  77.156164         0.0  \n",
              "3  2062-08-22 00:00:00  81.391781         0.0  \n",
              "6  2045-05-19 00:00:00  61.589041         0.0  \n",
              "7  2079-04-10 00:00:00  28.682192         0.0  \n",
              "\n",
              "[5 rows x 28 columns]"
            ]
          },
          "metadata": {
            "tags": []
          },
          "execution_count": 123
        }
      ]
    },
    {
      "metadata": {
        "id": "vPzOu8nHY7oH",
        "colab_type": "code",
        "outputId": "f960ce39-a683-4989-d498-9d602b9320b6",
        "colab": {
          "base_uri": "https://localhost:8080/",
          "height": 511
        }
      },
      "cell_type": "code",
      "source": [
        "drug_codes_prior_1 = drug_codes_merged[drug_codes_merged['PriorToRead']==1]\n",
        "drug_codes_prior_1.head()"
      ],
      "execution_count": 0,
      "outputs": [
        {
          "output_type": "execute_result",
          "data": {
            "text/html": [
              "<div>\n",
              "<style scoped>\n",
              "    .dataframe tbody tr th:only-of-type {\n",
              "        vertical-align: middle;\n",
              "    }\n",
              "\n",
              "    .dataframe tbody tr th {\n",
              "        vertical-align: top;\n",
              "    }\n",
              "\n",
              "    .dataframe thead th {\n",
              "        text-align: right;\n",
              "    }\n",
              "</style>\n",
              "<table border=\"1\" class=\"dataframe\">\n",
              "  <thead>\n",
              "    <tr style=\"text-align: right;\">\n",
              "      <th></th>\n",
              "      <th>ROW_ID</th>\n",
              "      <th>SUBJECT_ID_x</th>\n",
              "      <th>HADM_ID</th>\n",
              "      <th>DRG_TYPE</th>\n",
              "      <th>DRG_CODE</th>\n",
              "      <th>DESCRIPTION</th>\n",
              "      <th>DRG_SEVERITY</th>\n",
              "      <th>DRG_MORTALITY</th>\n",
              "      <th>Unnamed: 0</th>\n",
              "      <th>SUBJECT_ID_y</th>\n",
              "      <th>...</th>\n",
              "      <th>RELIGION</th>\n",
              "      <th>MARITAL_STATUS</th>\n",
              "      <th>ETHNICITY</th>\n",
              "      <th>EDREGTIME</th>\n",
              "      <th>EDOUTTIME</th>\n",
              "      <th>DIAGNOSIS</th>\n",
              "      <th>GENDER</th>\n",
              "      <th>DOB</th>\n",
              "      <th>AGE</th>\n",
              "      <th>PriorToRead</th>\n",
              "    </tr>\n",
              "  </thead>\n",
              "  <tbody>\n",
              "    <tr>\n",
              "      <th>174</th>\n",
              "      <td>83</td>\n",
              "      <td>16053</td>\n",
              "      <td>189195.0</td>\n",
              "      <td>HCFA</td>\n",
              "      <td>475</td>\n",
              "      <td>RESPIRATORY SYSTEM DIAGNOSIS WITH VENTILATOR S...</td>\n",
              "      <td>NaN</td>\n",
              "      <td>NaN</td>\n",
              "      <td>7118.0</td>\n",
              "      <td>16053.0</td>\n",
              "      <td>...</td>\n",
              "      <td>CATHOLIC</td>\n",
              "      <td>MARRIED</td>\n",
              "      <td>WHITE</td>\n",
              "      <td>2112-04-20 09:17:00</td>\n",
              "      <td>2112-04-20 18:30:00</td>\n",
              "      <td>PNEUMONIA; COPD</td>\n",
              "      <td>M</td>\n",
              "      <td>2056-04-16 00:00:00</td>\n",
              "      <td>56.046575</td>\n",
              "      <td>1.0</td>\n",
              "    </tr>\n",
              "    <tr>\n",
              "      <th>245</th>\n",
              "      <td>154</td>\n",
              "      <td>9736</td>\n",
              "      <td>160259.0</td>\n",
              "      <td>HCFA</td>\n",
              "      <td>105</td>\n",
              "      <td>CARDIAC VALVE &amp; OTHER MAJOR CARDIOTHORACIC PRO...</td>\n",
              "      <td>NaN</td>\n",
              "      <td>NaN</td>\n",
              "      <td>2864.0</td>\n",
              "      <td>9736.0</td>\n",
              "      <td>...</td>\n",
              "      <td>GREEK ORTHODOX</td>\n",
              "      <td>MARRIED</td>\n",
              "      <td>WHITE</td>\n",
              "      <td>NaN</td>\n",
              "      <td>NaN</td>\n",
              "      <td>AORTIC STENOSIS\\BENTALL PROCEDURE/SDA</td>\n",
              "      <td>M</td>\n",
              "      <td>2115-06-02 00:00:00</td>\n",
              "      <td>69.010959</td>\n",
              "      <td>1.0</td>\n",
              "    </tr>\n",
              "    <tr>\n",
              "      <th>263</th>\n",
              "      <td>172</td>\n",
              "      <td>11216</td>\n",
              "      <td>119632.0</td>\n",
              "      <td>HCFA</td>\n",
              "      <td>109</td>\n",
              "      <td>CORONARY BYPASS WITHOUT CARDIAC CATHETER</td>\n",
              "      <td>NaN</td>\n",
              "      <td>NaN</td>\n",
              "      <td>5401.0</td>\n",
              "      <td>11216.0</td>\n",
              "      <td>...</td>\n",
              "      <td>CATHOLIC</td>\n",
              "      <td>MARRIED</td>\n",
              "      <td>WHITE</td>\n",
              "      <td>2134-03-24 10:17:00</td>\n",
              "      <td>2134-03-24 16:30:00</td>\n",
              "      <td>UNSTABLE ANGINA\\CORONARY ARTERY BYPASS GRAFT</td>\n",
              "      <td>M</td>\n",
              "      <td>2066-10-28 00:00:00</td>\n",
              "      <td>67.446575</td>\n",
              "      <td>1.0</td>\n",
              "    </tr>\n",
              "    <tr>\n",
              "      <th>354</th>\n",
              "      <td>263</td>\n",
              "      <td>16013</td>\n",
              "      <td>174375.0</td>\n",
              "      <td>HCFA</td>\n",
              "      <td>88</td>\n",
              "      <td>CHRONIC OBSTRUCTIVE PULMONARY DISEASE</td>\n",
              "      <td>NaN</td>\n",
              "      <td>NaN</td>\n",
              "      <td>5933.0</td>\n",
              "      <td>16013.0</td>\n",
              "      <td>...</td>\n",
              "      <td>CATHOLIC</td>\n",
              "      <td>WIDOWED</td>\n",
              "      <td>HISPANIC OR LATINO</td>\n",
              "      <td>2129-06-10 18:41:00</td>\n",
              "      <td>2129-06-10 23:51:00</td>\n",
              "      <td>CHEST PAIN</td>\n",
              "      <td>F</td>\n",
              "      <td>2042-12-20 00:00:00</td>\n",
              "      <td>86.528767</td>\n",
              "      <td>1.0</td>\n",
              "    </tr>\n",
              "    <tr>\n",
              "      <th>401</th>\n",
              "      <td>310</td>\n",
              "      <td>24889</td>\n",
              "      <td>143265.0</td>\n",
              "      <td>HCFA</td>\n",
              "      <td>467</td>\n",
              "      <td>OTHER FACTORS INFLUENCING HEALTH STATUS</td>\n",
              "      <td>NaN</td>\n",
              "      <td>NaN</td>\n",
              "      <td>9795.0</td>\n",
              "      <td>24889.0</td>\n",
              "      <td>...</td>\n",
              "      <td>CATHOLIC</td>\n",
              "      <td>NaN</td>\n",
              "      <td>HISPANIC OR LATINO</td>\n",
              "      <td>NaN</td>\n",
              "      <td>NaN</td>\n",
              "      <td>PREMATURITY</td>\n",
              "      <td>F</td>\n",
              "      <td>2196-01-06 00:00:00</td>\n",
              "      <td>0.115068</td>\n",
              "      <td>1.0</td>\n",
              "    </tr>\n",
              "  </tbody>\n",
              "</table>\n",
              "<p>5 rows × 28 columns</p>\n",
              "</div>"
            ],
            "text/plain": [
              "     ROW_ID  SUBJECT_ID_x   HADM_ID DRG_TYPE  DRG_CODE  \\\n",
              "174      83         16053  189195.0     HCFA       475   \n",
              "245     154          9736  160259.0     HCFA       105   \n",
              "263     172         11216  119632.0     HCFA       109   \n",
              "354     263         16013  174375.0     HCFA        88   \n",
              "401     310         24889  143265.0     HCFA       467   \n",
              "\n",
              "                                           DESCRIPTION  DRG_SEVERITY  \\\n",
              "174  RESPIRATORY SYSTEM DIAGNOSIS WITH VENTILATOR S...           NaN   \n",
              "245  CARDIAC VALVE & OTHER MAJOR CARDIOTHORACIC PRO...           NaN   \n",
              "263           CORONARY BYPASS WITHOUT CARDIAC CATHETER           NaN   \n",
              "354              CHRONIC OBSTRUCTIVE PULMONARY DISEASE           NaN   \n",
              "401            OTHER FACTORS INFLUENCING HEALTH STATUS           NaN   \n",
              "\n",
              "     DRG_MORTALITY  Unnamed: 0  SUBJECT_ID_y     ...            RELIGION  \\\n",
              "174            NaN      7118.0       16053.0     ...            CATHOLIC   \n",
              "245            NaN      2864.0        9736.0     ...      GREEK ORTHODOX   \n",
              "263            NaN      5401.0       11216.0     ...            CATHOLIC   \n",
              "354            NaN      5933.0       16013.0     ...            CATHOLIC   \n",
              "401            NaN      9795.0       24889.0     ...            CATHOLIC   \n",
              "\n",
              "    MARITAL_STATUS           ETHNICITY            EDREGTIME  \\\n",
              "174        MARRIED               WHITE  2112-04-20 09:17:00   \n",
              "245        MARRIED               WHITE                  NaN   \n",
              "263        MARRIED               WHITE  2134-03-24 10:17:00   \n",
              "354        WIDOWED  HISPANIC OR LATINO  2129-06-10 18:41:00   \n",
              "401            NaN  HISPANIC OR LATINO                  NaN   \n",
              "\n",
              "               EDOUTTIME                                     DIAGNOSIS GENDER  \\\n",
              "174  2112-04-20 18:30:00                               PNEUMONIA; COPD      M   \n",
              "245                  NaN         AORTIC STENOSIS\\BENTALL PROCEDURE/SDA      M   \n",
              "263  2134-03-24 16:30:00  UNSTABLE ANGINA\\CORONARY ARTERY BYPASS GRAFT      M   \n",
              "354  2129-06-10 23:51:00                                    CHEST PAIN      F   \n",
              "401                  NaN                                   PREMATURITY      F   \n",
              "\n",
              "                     DOB        AGE PriorToRead  \n",
              "174  2056-04-16 00:00:00  56.046575         1.0  \n",
              "245  2115-06-02 00:00:00  69.010959         1.0  \n",
              "263  2066-10-28 00:00:00  67.446575         1.0  \n",
              "354  2042-12-20 00:00:00  86.528767         1.0  \n",
              "401  2196-01-06 00:00:00   0.115068         1.0  \n",
              "\n",
              "[5 rows x 28 columns]"
            ]
          },
          "metadata": {
            "tags": []
          },
          "execution_count": 124
        }
      ]
    },
    {
      "metadata": {
        "id": "aY0E00v7ZC0A",
        "colab_type": "code",
        "outputId": "a531786e-def1-44d9-c744-929ccb73af4a",
        "colab": {
          "base_uri": "https://localhost:8080/",
          "height": 238
        }
      },
      "cell_type": "code",
      "source": [
        "dcp0_gb = drug_codes_prior_0.groupby('DRG_TYPE')\n",
        "dcp0_gb.count()"
      ],
      "execution_count": 0,
      "outputs": [
        {
          "output_type": "execute_result",
          "data": {
            "text/html": [
              "<div>\n",
              "<style scoped>\n",
              "    .dataframe tbody tr th:only-of-type {\n",
              "        vertical-align: middle;\n",
              "    }\n",
              "\n",
              "    .dataframe tbody tr th {\n",
              "        vertical-align: top;\n",
              "    }\n",
              "\n",
              "    .dataframe thead th {\n",
              "        text-align: right;\n",
              "    }\n",
              "</style>\n",
              "<table border=\"1\" class=\"dataframe\">\n",
              "  <thead>\n",
              "    <tr style=\"text-align: right;\">\n",
              "      <th></th>\n",
              "      <th>ROW_ID</th>\n",
              "      <th>SUBJECT_ID_x</th>\n",
              "      <th>HADM_ID</th>\n",
              "      <th>DRG_CODE</th>\n",
              "      <th>DESCRIPTION</th>\n",
              "      <th>DRG_SEVERITY</th>\n",
              "      <th>DRG_MORTALITY</th>\n",
              "      <th>Unnamed: 0</th>\n",
              "      <th>SUBJECT_ID_y</th>\n",
              "      <th>ADMITTIME</th>\n",
              "      <th>...</th>\n",
              "      <th>RELIGION</th>\n",
              "      <th>MARITAL_STATUS</th>\n",
              "      <th>ETHNICITY</th>\n",
              "      <th>EDREGTIME</th>\n",
              "      <th>EDOUTTIME</th>\n",
              "      <th>DIAGNOSIS</th>\n",
              "      <th>GENDER</th>\n",
              "      <th>DOB</th>\n",
              "      <th>AGE</th>\n",
              "      <th>PriorToRead</th>\n",
              "    </tr>\n",
              "    <tr>\n",
              "      <th>DRG_TYPE</th>\n",
              "      <th></th>\n",
              "      <th></th>\n",
              "      <th></th>\n",
              "      <th></th>\n",
              "      <th></th>\n",
              "      <th></th>\n",
              "      <th></th>\n",
              "      <th></th>\n",
              "      <th></th>\n",
              "      <th></th>\n",
              "      <th></th>\n",
              "      <th></th>\n",
              "      <th></th>\n",
              "      <th></th>\n",
              "      <th></th>\n",
              "      <th></th>\n",
              "      <th></th>\n",
              "      <th></th>\n",
              "      <th></th>\n",
              "      <th></th>\n",
              "      <th></th>\n",
              "    </tr>\n",
              "  </thead>\n",
              "  <tbody>\n",
              "    <tr>\n",
              "      <th>APR</th>\n",
              "      <td>57250</td>\n",
              "      <td>57250</td>\n",
              "      <td>57250</td>\n",
              "      <td>57250</td>\n",
              "      <td>57249</td>\n",
              "      <td>57250</td>\n",
              "      <td>57250</td>\n",
              "      <td>57250</td>\n",
              "      <td>57250</td>\n",
              "      <td>57250</td>\n",
              "      <td>...</td>\n",
              "      <td>57250</td>\n",
              "      <td>55092</td>\n",
              "      <td>57250</td>\n",
              "      <td>35969</td>\n",
              "      <td>35969</td>\n",
              "      <td>57249</td>\n",
              "      <td>57250</td>\n",
              "      <td>57250</td>\n",
              "      <td>57250</td>\n",
              "      <td>57250</td>\n",
              "    </tr>\n",
              "    <tr>\n",
              "      <th>HCFA</th>\n",
              "      <td>22667</td>\n",
              "      <td>22667</td>\n",
              "      <td>22667</td>\n",
              "      <td>22667</td>\n",
              "      <td>22619</td>\n",
              "      <td>0</td>\n",
              "      <td>0</td>\n",
              "      <td>22667</td>\n",
              "      <td>22667</td>\n",
              "      <td>22667</td>\n",
              "      <td>...</td>\n",
              "      <td>22238</td>\n",
              "      <td>21121</td>\n",
              "      <td>22667</td>\n",
              "      <td>12195</td>\n",
              "      <td>12195</td>\n",
              "      <td>22664</td>\n",
              "      <td>22667</td>\n",
              "      <td>22667</td>\n",
              "      <td>22667</td>\n",
              "      <td>22667</td>\n",
              "    </tr>\n",
              "    <tr>\n",
              "      <th>MS</th>\n",
              "      <td>24274</td>\n",
              "      <td>24274</td>\n",
              "      <td>24274</td>\n",
              "      <td>24274</td>\n",
              "      <td>24262</td>\n",
              "      <td>0</td>\n",
              "      <td>0</td>\n",
              "      <td>24274</td>\n",
              "      <td>24274</td>\n",
              "      <td>24274</td>\n",
              "      <td>...</td>\n",
              "      <td>24274</td>\n",
              "      <td>23404</td>\n",
              "      <td>24274</td>\n",
              "      <td>15444</td>\n",
              "      <td>15444</td>\n",
              "      <td>24274</td>\n",
              "      <td>24274</td>\n",
              "      <td>24274</td>\n",
              "      <td>24274</td>\n",
              "      <td>24274</td>\n",
              "    </tr>\n",
              "  </tbody>\n",
              "</table>\n",
              "<p>3 rows × 27 columns</p>\n",
              "</div>"
            ],
            "text/plain": [
              "          ROW_ID  SUBJECT_ID_x  HADM_ID  DRG_CODE  DESCRIPTION  DRG_SEVERITY  \\\n",
              "DRG_TYPE                                                                       \n",
              "APR        57250         57250    57250     57250        57249         57250   \n",
              "HCFA       22667         22667    22667     22667        22619             0   \n",
              "MS         24274         24274    24274     24274        24262             0   \n",
              "\n",
              "          DRG_MORTALITY  Unnamed: 0  SUBJECT_ID_y  ADMITTIME     ...       \\\n",
              "DRG_TYPE                                                         ...        \n",
              "APR               57250       57250         57250      57250     ...        \n",
              "HCFA                  0       22667         22667      22667     ...        \n",
              "MS                    0       24274         24274      24274     ...        \n",
              "\n",
              "          RELIGION  MARITAL_STATUS  ETHNICITY  EDREGTIME  EDOUTTIME  \\\n",
              "DRG_TYPE                                                              \n",
              "APR          57250           55092      57250      35969      35969   \n",
              "HCFA         22238           21121      22667      12195      12195   \n",
              "MS           24274           23404      24274      15444      15444   \n",
              "\n",
              "          DIAGNOSIS  GENDER    DOB    AGE  PriorToRead  \n",
              "DRG_TYPE                                                \n",
              "APR           57249   57250  57250  57250        57250  \n",
              "HCFA          22664   22667  22667  22667        22667  \n",
              "MS            24274   24274  24274  24274        24274  \n",
              "\n",
              "[3 rows x 27 columns]"
            ]
          },
          "metadata": {
            "tags": []
          },
          "execution_count": 125
        }
      ]
    },
    {
      "metadata": {
        "id": "sseXIq0ra0rE",
        "colab_type": "code",
        "outputId": "6432c76f-e101-4447-9b0e-24e7f3070f93",
        "colab": {
          "base_uri": "https://localhost:8080/",
          "height": 383
        }
      },
      "cell_type": "code",
      "source": [
        "prior_0_bargraph = dcp0_gb.count().plot.bar(y='DRG_CODE')"
      ],
      "execution_count": 0,
      "outputs": [
        {
          "output_type": "display_data",
          "data": {
            "image/png": "[encoded data removed]",
            "text/plain": [
              "<matplotlib.figure.Figure at 0x7fa08994cd10>"
            ]
          },
          "metadata": {
            "tags": []
          }
        }
      ]
    },
    {
      "metadata": {
        "id": "6GQuYsKGc6xQ",
        "colab_type": "code",
        "outputId": "9140af46-b741-407a-cfd8-b8b03ecd4fe0",
        "colab": {
          "base_uri": "https://localhost:8080/",
          "height": 379
        }
      },
      "cell_type": "code",
      "source": [
        "dcp1_gb = drug_codes_prior_1.groupby('DRG_TYPE')\n",
        "prior_1_bargraph = dcp1_gb.count().plot.bar(y='DRG_CODE')"
      ],
      "execution_count": 0,
      "outputs": [
        {
          "output_type": "display_data",
          "data": {
            "image/png": "[encoded data removed]",
            "text/plain": [
              "<matplotlib.figure.Figure at 0x7fa089914e90>"
            ]
          },
          "metadata": {
            "tags": []
          }
        }
      ]
    },
    {
      "metadata": {
        "id": "nEL6l29Hd-8d",
        "colab_type": "code",
        "outputId": "02a6afd3-b8c0-4e2a-cff7-42d33b7e59c4",
        "colab": {
          "base_uri": "https://localhost:8080/",
          "height": 107
        }
      },
      "cell_type": "code",
      "source": [
        "temp = dcp1_gb['DRG_CODE'].count()\n",
        "temp = temp.rename(\"Readmissions\")\n",
        "summ = temp.sum()\n",
        "temp = (temp/summ)*100\n",
        "temp"
      ],
      "execution_count": 0,
      "outputs": [
        {
          "output_type": "execute_result",
          "data": {
            "text/plain": [
              "DRG_TYPE\n",
              "APR     58.206107\n",
              "HCFA    16.521265\n",
              "MS      25.272628\n",
              "Name: Readmissions, dtype: float64"
            ]
          },
          "metadata": {
            "tags": []
          },
          "execution_count": 128
        }
      ]
    },
    {
      "metadata": {
        "id": "3asG1S5-eaUL",
        "colab_type": "code",
        "outputId": "672ad304-b4a5-42c4-b19e-3453b60a01e0",
        "colab": {
          "base_uri": "https://localhost:8080/",
          "height": 107
        }
      },
      "cell_type": "code",
      "source": [
        "temp2 = dcp0_gb['DRG_CODE'].count()\n",
        "temp2 = temp2.rename(\"Non-Readmissions\")\n",
        "summ2 = temp2.sum()\n",
        "temp2 = (temp2/summ2)*100\n",
        "temp2"
      ],
      "execution_count": 0,
      "outputs": [
        {
          "output_type": "execute_result",
          "data": {
            "text/plain": [
              "DRG_TYPE\n",
              "APR     54.947164\n",
              "HCFA    21.755238\n",
              "MS      23.297598\n",
              "Name: Non-Readmissions, dtype: float64"
            ]
          },
          "metadata": {
            "tags": []
          },
          "execution_count": 129
        }
      ]
    },
    {
      "metadata": {
        "id": "_OfkZPFTerBK",
        "colab_type": "code",
        "outputId": "adf37ce6-4717-4817-d43b-bd2ecbe6e20c",
        "colab": {
          "base_uri": "https://localhost:8080/",
          "height": 171
        }
      },
      "cell_type": "code",
      "source": [
        "observed = pd.concat([temp, temp2], axis=1)\n",
        "observed = observed.rename(index=str, columns = {observed.columns[0]:\"Readmissions\"})\n",
        "observed"
      ],
      "execution_count": 0,
      "outputs": [
        {
          "output_type": "execute_result",
          "data": {
            "text/html": [
              "<div>\n",
              "<style scoped>\n",
              "    .dataframe tbody tr th:only-of-type {\n",
              "        vertical-align: middle;\n",
              "    }\n",
              "\n",
              "    .dataframe tbody tr th {\n",
              "        vertical-align: top;\n",
              "    }\n",
              "\n",
              "    .dataframe thead th {\n",
              "        text-align: right;\n",
              "    }\n",
              "</style>\n",
              "<table border=\"1\" class=\"dataframe\">\n",
              "  <thead>\n",
              "    <tr style=\"text-align: right;\">\n",
              "      <th></th>\n",
              "      <th>Readmissions</th>\n",
              "      <th>Non-Readmissions</th>\n",
              "    </tr>\n",
              "    <tr>\n",
              "      <th>DRG_TYPE</th>\n",
              "      <th></th>\n",
              "      <th></th>\n",
              "    </tr>\n",
              "  </thead>\n",
              "  <tbody>\n",
              "    <tr>\n",
              "      <th>APR</th>\n",
              "      <td>58.206107</td>\n",
              "      <td>54.947164</td>\n",
              "    </tr>\n",
              "    <tr>\n",
              "      <th>HCFA</th>\n",
              "      <td>16.521265</td>\n",
              "      <td>21.755238</td>\n",
              "    </tr>\n",
              "    <tr>\n",
              "      <th>MS</th>\n",
              "      <td>25.272628</td>\n",
              "      <td>23.297598</td>\n",
              "    </tr>\n",
              "  </tbody>\n",
              "</table>\n",
              "</div>"
            ],
            "text/plain": [
              "          Readmissions  Non-Readmissions\n",
              "DRG_TYPE                                \n",
              "APR          58.206107         54.947164\n",
              "HCFA         16.521265         21.755238\n",
              "MS           25.272628         23.297598"
            ]
          },
          "metadata": {
            "tags": []
          },
          "execution_count": 130
        }
      ]
    },
    {
      "metadata": {
        "id": "XtFBBwrKfEtz",
        "colab_type": "code",
        "outputId": "00471724-effb-4c77-bd0e-d783b8cc04f7",
        "colab": {
          "base_uri": "https://localhost:8080/",
          "height": 171
        }
      },
      "cell_type": "code",
      "source": [
        "expected1 = (temp.sum()*(temp+temp2))/((temp.sum())+(temp2.sum()))\n",
        "expected1 = expected1.rename(\"Readmissions\")\n",
        "\n",
        "expected2 = (temp2.sum()*(temp+temp2))/((temp.sum())+(temp2.sum()))\n",
        "expected2 = expected2.rename(\"Non-Readmissions\")\n",
        "\n",
        "expected = pd.concat([expected1,expected2],axis=1)\n",
        "expected"
      ],
      "execution_count": 0,
      "outputs": [
        {
          "output_type": "execute_result",
          "data": {
            "text/html": [
              "<div>\n",
              "<style scoped>\n",
              "    .dataframe tbody tr th:only-of-type {\n",
              "        vertical-align: middle;\n",
              "    }\n",
              "\n",
              "    .dataframe tbody tr th {\n",
              "        vertical-align: top;\n",
              "    }\n",
              "\n",
              "    .dataframe thead th {\n",
              "        text-align: right;\n",
              "    }\n",
              "</style>\n",
              "<table border=\"1\" class=\"dataframe\">\n",
              "  <thead>\n",
              "    <tr style=\"text-align: right;\">\n",
              "      <th></th>\n",
              "      <th>Readmissions</th>\n",
              "      <th>Non-Readmissions</th>\n",
              "    </tr>\n",
              "    <tr>\n",
              "      <th>DRG_TYPE</th>\n",
              "      <th></th>\n",
              "      <th></th>\n",
              "    </tr>\n",
              "  </thead>\n",
              "  <tbody>\n",
              "    <tr>\n",
              "      <th>APR</th>\n",
              "      <td>56.576636</td>\n",
              "      <td>56.576636</td>\n",
              "    </tr>\n",
              "    <tr>\n",
              "      <th>HCFA</th>\n",
              "      <td>19.138251</td>\n",
              "      <td>19.138251</td>\n",
              "    </tr>\n",
              "    <tr>\n",
              "      <th>MS</th>\n",
              "      <td>24.285113</td>\n",
              "      <td>24.285113</td>\n",
              "    </tr>\n",
              "  </tbody>\n",
              "</table>\n",
              "</div>"
            ],
            "text/plain": [
              "          Readmissions  Non-Readmissions\n",
              "DRG_TYPE                                \n",
              "APR          56.576636         56.576636\n",
              "HCFA         19.138251         19.138251\n",
              "MS           24.285113         24.285113"
            ]
          },
          "metadata": {
            "tags": []
          },
          "execution_count": 131
        }
      ]
    },
    {
      "metadata": {
        "id": "oEUfsdkTgJcb",
        "colab_type": "code",
        "outputId": "2ba7c3d0-d56b-46dd-eafd-91b7f119b1b1",
        "colab": {
          "base_uri": "https://localhost:8080/",
          "height": 35
        }
      },
      "cell_type": "code",
      "source": [
        "chiSquareStat = (((observed-expected)**2)/expected).sum().sum()\n",
        "chiSquareStat"
      ],
      "execution_count": 0,
      "outputs": [
        {
          "output_type": "execute_result",
          "data": {
            "text/plain": [
              "0.8898721685853808"
            ]
          },
          "metadata": {
            "tags": []
          },
          "execution_count": 132
        }
      ]
    },
    {
      "metadata": {
        "id": "HL3ozM2XgXeK",
        "colab_type": "code",
        "outputId": "696cd960-f986-4b30-fe23-c1a7fac1fc57",
        "colab": {
          "base_uri": "https://localhost:8080/",
          "height": 55
        }
      },
      "cell_type": "code",
      "source": [
        "import scipy.stats as stats\n",
        "stats.chisquare(f_obs = observed,f_exp = expected)"
      ],
      "execution_count": 0,
      "outputs": [
        {
          "output_type": "execute_result",
          "data": {
            "text/plain": [
              "Power_divergenceResult(statistic=array([0.44493608, 0.44493608]), pvalue=array([0.80054059, 0.80054059]))"
            ]
          },
          "metadata": {
            "tags": []
          },
          "execution_count": 133
        }
      ]
    },
    {
      "metadata": {
        "id": "fDkS4mQTg9kT",
        "colab_type": "code",
        "outputId": "79232ab3-9e1e-49b5-e12f-5ec29ee4136e",
        "colab": {
          "base_uri": "https://localhost:8080/",
          "height": 35
        }
      },
      "cell_type": "code",
      "source": [
        "drug_codes_prior_0.shape, drug_codes_prior_1.shape"
      ],
      "execution_count": 0,
      "outputs": [
        {
          "output_type": "execute_result",
          "data": {
            "text/plain": [
              "((104191, 28), (3668, 28))"
            ]
          },
          "metadata": {
            "tags": []
          },
          "execution_count": 134
        }
      ]
    },
    {
      "metadata": {
        "id": "OHZIqJYyhOP3",
        "colab_type": "code",
        "colab": {}
      },
      "cell_type": "code",
      "source": [
        "ml = drug_codes_prior_1.append(drug_codes_prior_0.sample(n=3668))"
      ],
      "execution_count": 0,
      "outputs": []
    },
    {
      "metadata": {
        "id": "tLGKuKTohgsQ",
        "colab_type": "code",
        "outputId": "a169e015-4293-440d-ef5b-0a23301fe3ef",
        "colab": {
          "base_uri": "https://localhost:8080/",
          "height": 143
        }
      },
      "cell_type": "code",
      "source": [
        "ml.columns.values"
      ],
      "execution_count": 0,
      "outputs": [
        {
          "output_type": "execute_result",
          "data": {
            "text/plain": [
              "array(['ROW_ID', 'SUBJECT_ID_x', 'HADM_ID', 'DRG_TYPE', 'DRG_CODE',\n",
              "       'DESCRIPTION', 'DRG_SEVERITY', 'DRG_MORTALITY', 'Unnamed: 0',\n",
              "       'SUBJECT_ID_y', 'ADMITTIME', 'DISCHTIME', 'DEATHTIME',\n",
              "       'ADMISSION_TYPE', 'ADMISSION_LOCATION', 'DISCHARGE_LOCATION',\n",
              "       'INSURANCE', 'LANGUAGE', 'RELIGION', 'MARITAL_STATUS', 'ETHNICITY',\n",
              "       'EDREGTIME', 'EDOUTTIME', 'DIAGNOSIS', 'GENDER', 'DOB', 'AGE',\n",
              "       'PriorToRead'], dtype=object)"
            ]
          },
          "metadata": {
            "tags": []
          },
          "execution_count": 136
        }
      ]
    },
    {
      "metadata": {
        "id": "jNZGSD-whruH",
        "colab_type": "code",
        "colab": {}
      },
      "cell_type": "code",
      "source": [
        "ml = ml.drop(['ROW_ID', 'SUBJECT_ID_x', 'HADM_ID', 'DESCRIPTION','Unnamed: 0', 'SUBJECT_ID_y', 'ADMITTIME', 'DISCHTIME', 'DEATHTIME','ADMISSION_TYPE', 'ADMISSION_LOCATION', 'DISCHARGE_LOCATION','EDREGTIME', 'EDOUTTIME', 'DOB'], axis=1)"
      ],
      "execution_count": 0,
      "outputs": []
    },
    {
      "metadata": {
        "id": "wUpvZYx4iX62",
        "colab_type": "code",
        "outputId": "dc2f0ebc-b134-45f3-a99b-647636874c5c",
        "colab": {
          "base_uri": "https://localhost:8080/",
          "height": 269
        }
      },
      "cell_type": "code",
      "source": [
        "ml.dtypes"
      ],
      "execution_count": 0,
      "outputs": [
        {
          "output_type": "execute_result",
          "data": {
            "text/plain": [
              "DRG_TYPE           object\n",
              "DRG_CODE            int64\n",
              "DRG_SEVERITY      float64\n",
              "DRG_MORTALITY     float64\n",
              "INSURANCE          object\n",
              "LANGUAGE           object\n",
              "RELIGION           object\n",
              "MARITAL_STATUS     object\n",
              "ETHNICITY          object\n",
              "DIAGNOSIS          object\n",
              "GENDER             object\n",
              "AGE               float64\n",
              "PriorToRead       float64\n",
              "dtype: object"
            ]
          },
          "metadata": {
            "tags": []
          },
          "execution_count": 138
        }
      ]
    },
    {
      "metadata": {
        "id": "10fc_7sxnpYV",
        "colab_type": "code",
        "colab": {}
      },
      "cell_type": "code",
      "source": [
        "ml = ml.fillna(value=-1.0)"
      ],
      "execution_count": 0,
      "outputs": []
    },
    {
      "metadata": {
        "id": "2AO3hnapoNPd",
        "colab_type": "code",
        "outputId": "b6567e7d-d116-4d7a-f9ac-594ca67f657a",
        "colab": {
          "base_uri": "https://localhost:8080/",
          "height": 35
        }
      },
      "cell_type": "code",
      "source": [
        "ml.shape"
      ],
      "execution_count": 0,
      "outputs": [
        {
          "output_type": "execute_result",
          "data": {
            "text/plain": [
              "(7336, 13)"
            ]
          },
          "metadata": {
            "tags": []
          },
          "execution_count": 140
        }
      ]
    },
    {
      "metadata": {
        "id": "DOZu-BFIijED",
        "colab_type": "code",
        "colab": {}
      },
      "cell_type": "code",
      "source": [
        "drug_codes_merged.to_csv('drug_codes.csv')"
      ],
      "execution_count": 0,
      "outputs": []
    },
    {
      "metadata": {
        "id": "tTShQBTdjLpk",
        "colab_type": "code",
        "colab": {}
      },
      "cell_type": "code",
      "source": [
        "from sklearn.preprocessing import LabelEncoder\n",
        "le = LabelEncoder()\n",
        "for col in ml.columns:\n",
        "  if ml[col].dtypes == type(object): \n",
        "    ml[col] = le.fit_transform(ml[col].astype(str))"
      ],
      "execution_count": 0,
      "outputs": []
    },
    {
      "metadata": {
        "id": "Q3LrIKlTlG1h",
        "colab_type": "code",
        "colab": {}
      },
      "cell_type": "code",
      "source": [
        "from sklearn.model_selection import train_test_split\n",
        "x = ml.drop([\"PriorToRead\"], axis =1 )\n",
        "y = ml[\"PriorToRead\"]"
      ],
      "execution_count": 0,
      "outputs": []
    },
    {
      "metadata": {
        "id": "xV0vWmiPlUhO",
        "colab_type": "code",
        "outputId": "57d4acf2-43be-4669-e797-d56692ce2aca",
        "colab": {
          "base_uri": "https://localhost:8080/",
          "height": 35
        }
      },
      "cell_type": "code",
      "source": [
        "x_train, x_test, y_train, y_test = train_test_split(x, y, test_size = 0.2)\n",
        "x_train.shape, x_test.shape, y_train.shape, y_test.shape"
      ],
      "execution_count": 0,
      "outputs": [
        {
          "output_type": "execute_result",
          "data": {
            "text/plain": [
              "((5868, 12), (1468, 12), (5868,), (1468,))"
            ]
          },
          "metadata": {
            "tags": []
          },
          "execution_count": 144
        }
      ]
    },
    {
      "metadata": {
        "id": "2feYqsbqnCEe",
        "colab_type": "code",
        "outputId": "93f8f47d-e174-48ca-a685-19471b695b48",
        "colab": {
          "base_uri": "https://localhost:8080/",
          "height": 125
        }
      },
      "cell_type": "code",
      "source": [
        "from sklearn.ensemble import RandomForestClassifier\n",
        "\n",
        "RandFor = RandomForestClassifier(n_estimators = 100, max_depth=None, random_state = 0)\n",
        "RandFor.fit(x_train,y_train)"
      ],
      "execution_count": 0,
      "outputs": [
        {
          "output_type": "execute_result",
          "data": {
            "text/plain": [
              "RandomForestClassifier(bootstrap=True, class_weight=None, criterion='gini',\n",
              "            max_depth=None, max_features='auto', max_leaf_nodes=None,\n",
              "            min_impurity_decrease=0.0, min_impurity_split=None,\n",
              "            min_samples_leaf=1, min_samples_split=2,\n",
              "            min_weight_fraction_leaf=0.0, n_estimators=100, n_jobs=1,\n",
              "            oob_score=False, random_state=0, verbose=0, warm_start=False)"
            ]
          },
          "metadata": {
            "tags": []
          },
          "execution_count": 145
        }
      ]
    },
    {
      "metadata": {
        "id": "FFwh82pVnlhs",
        "colab_type": "code",
        "outputId": "003d4cab-9fab-46e0-95af-228a838923d6",
        "colab": {
          "base_uri": "https://localhost:8080/",
          "height": 35
        }
      },
      "cell_type": "code",
      "source": [
        "RandFor.score(x_test, y_test)"
      ],
      "execution_count": 0,
      "outputs": [
        {
          "output_type": "execute_result",
          "data": {
            "text/plain": [
              "0.715258855585831"
            ]
          },
          "metadata": {
            "tags": []
          },
          "execution_count": 146
        }
      ]
    },
    {
      "metadata": {
        "id": "T9gmozQAqGM9",
        "colab_type": "code",
        "outputId": "a1df7f0d-cd73-4d90-ce6b-bc3b628354c4",
        "colab": {
          "base_uri": "https://localhost:8080/",
          "height": 529
        }
      },
      "cell_type": "code",
      "source": [
        "from sklearn import metrics\n",
        "import seaborn as sns\n",
        "\n",
        "predRandFor = RandFor.predict(x_test)\n",
        "\n",
        "print(metrics.classification_report(y_test, predRandFor))\n",
        "print(metrics.confusion_matrix(y_test, predRandFor))\n",
        "\n",
        "sns.heatmap(metrics.confusion_matrix(y_test, predRandFor), annot=True, fmt=\"d\")"
      ],
      "execution_count": 0,
      "outputs": [
        {
          "output_type": "stream",
          "text": [
            "             precision    recall  f1-score   support\n",
            "\n",
            "        0.0       0.69      0.72      0.71       702\n",
            "        1.0       0.74      0.71      0.72       766\n",
            "\n",
            "avg / total       0.72      0.72      0.72      1468\n",
            "\n",
            "[[508 194]\n",
            " [224 542]]\n"
          ],
          "name": "stdout"
        },
        {
          "output_type": "execute_result",
          "data": {
            "text/plain": [
              "<matplotlib.axes._subplots.AxesSubplot at 0x7fa0897f6e90>"
            ]
          },
          "metadata": {
            "tags": []
          },
          "execution_count": 147
        },
        {
          "output_type": "display_data",
          "data": {
            "image/png": "[encoded data removed]",
            "text/plain": [
              "<matplotlib.figure.Figure at 0x7fa0898bfcd0>"
            ]
          },
          "metadata": {
            "tags": []
          }
        }
      ]
    },
    {
      "metadata": {
        "id": "1gR7DUSJqsDi",
        "colab_type": "text"
      },
      "cell_type": "markdown",
      "source": [
        ""
      ]
    },
    {
      "metadata": {
        "id": "8uctXxYErXVt",
        "colab_type": "code",
        "outputId": "0137cc2b-42e6-4d07-a3bc-e83ccd3ae54a",
        "colab": {
          "base_uri": "https://localhost:8080/",
          "height": 443
        }
      },
      "cell_type": "code",
      "source": [
        "features = pd.DataFrame(RandFor.feature_importances_, index=x_train.columns, columns=[\"importance\"]).sort_values('importance',ascending=False)\n",
        "features.plot.bar()"
      ],
      "execution_count": 0,
      "outputs": [
        {
          "output_type": "execute_result",
          "data": {
            "text/plain": [
              "<matplotlib.axes._subplots.AxesSubplot at 0x7fa0898309d0>"
            ]
          },
          "metadata": {
            "tags": []
          },
          "execution_count": 148
        },
        {
          "output_type": "display_data",
          "data": {
            "image/png": "[encoded data removed]",
            "text/plain": [
              "<matplotlib.figure.Figure at 0x7fa08984a850>"
            ]
          },
          "metadata": {
            "tags": []
          }
        }
      ]
    }
  ]
}